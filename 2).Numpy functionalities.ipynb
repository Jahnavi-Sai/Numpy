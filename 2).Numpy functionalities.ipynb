{
 "cells": [
  {
   "cell_type": "markdown",
   "id": "880db9b0-14e4-4383-ae4d-117483cc2eb8",
   "metadata": {},
   "source": [
    "# Numpy functionalities"
   ]
  },
  {
   "cell_type": "markdown",
   "id": "79b27f07-d471-42ca-b3fc-33a0576c210f",
   "metadata": {},
   "source": [
    "NumPy is a powerful Python library for numerical computing, offering a wide array of functionalities for array creation, \n",
    "manipulation, mathematical operations, and more."
   ]
  },
  {
   "cell_type": "markdown",
   "id": "d8f00401-ff5c-44c8-bce8-f2abe7852dc5",
   "metadata": {},
   "source": [
    "Here's a comprehensive overview of its core functionalities:\n",
    "\n",
    "# 1. Array Creation Functions\n",
    "\n",
    "These functions help in creating arrays of various shapes and types:\n",
    "\n",
    "1. np.array(): Creates an array from a list or tuple.\n",
    "\n",
    "2. np.zeros(shape): Returns a new array of given shape and type, filled with zeros.\n",
    "\n",
    "3. np.ones(shape): Returns a new array of given shape and type, filled with ones.\n",
    "\n",
    "4. np.empty(shape): Returns a new array of given shape and type, without initializing entries.\n",
    "\n",
    "5. np.arange(start, stop, step): Returns evenly spaced values within a given interval.\n",
    "\n",
    "6. np.linspace(start, stop, num): Returns evenly spaced numbers over a specified interval.\n",
    "\n",
    "7. np.eye(N): Returns a 2-D array with ones on the diagonal and zeros elsewhere.\n",
    "\n",
    "8. np.full(shape, fill_value): Returns a new array of given shape and type, filled with fill_value.\n",
    "\n",
    "# 2. Array Manipulation Functions\n",
    "\n",
    "These functions allow reshaping, joining, and splitting arrays:\n",
    "\n",
    "1. reshape(a, newshape): Gives a new shape to an array without changing its data.\n",
    "\n",
    "2. ravel(a): Returns a contiguous flattened array.\n",
    "\n",
    "3. transpose(a): Permutes the dimensions of an array.\n",
    "\n",
    "4. concatenate((a1, a2, ...), axis=0): Joins a sequence of arrays along an existing axis.\n",
    "\n",
    "5. split(ary, indices_or_sections, axis=0): Splits an array into multiple sub-arrays.\n",
    "\n",
    "6. stack(arrays, axis=0): Joins a sequence of arrays along a new axis.\n",
    "\n",
    "# 3. Mathematical Functions\n",
    "\n",
    "NumPy provides a suite of mathematical functions for operations on arrays:\n",
    "\n",
    "1. add(x1, x2): Adds arguments element-wise.\n",
    "\n",
    "2. subtract(x1, x2): Subtracts arguments element-wise.\n",
    "\n",
    "3. multiply(x1, x2): Multiplies arguments element-wise.\n",
    "\n",
    "4. divide(x1, x2): Divides arguments element-wise.\n",
    "\n",
    "5. power(x1, x2): First array elements raised to powers from second array, element-wise.\n",
    "\n",
    "6. mod(x1, x2): Returns the element-wise remainder of division.\n",
    "\n",
    "7. sqrt(x): Returns the non-negative square-root of an array, element-wise.\n",
    "\n",
    "8. exp(x): Calculates the exponential of all elements in the input array.\n",
    "\n",
    "9. log(x): Natural logarithm, element-wise.\n",
    "\n",
    "10. log10(x): Base-10 logarithm, element-wise.\n",
    "\n",
    "11. sin(x), cos(x), tan(x): Trigonometric functions.\n",
    "\n",
    "12. arcsin(x), arccos(x), arctan(x): Inverse trigonometric functions.\n",
    "\n",
    "13. sinh(x), cosh(x), tanh(x): Hyperbolic functions.\n",
    "\n",
    "14. arcsinh(x), arccosh(x), arctanh(x): Inverse hyperbolic functions.\n",
    "\n",
    "# 4. Statistical Functions\n",
    "\n",
    "Functions for statistical operations on arrays:\n",
    "\n",
    "1. mean(a): Computes the arithmetic mean.\n",
    "\n",
    "2. median(a): Computes the median.\n",
    "\n",
    "3. std(a): Computes the standard deviation.\n",
    "\n",
    "4. var(a): Computes the variance.\n",
    "\n",
    "5. min(a): Finds the minimum value.\n",
    "\n",
    "6. max(a): Finds the maximum value.\n",
    "\n",
    "7. argmin(a): Index of the minimum value.\n",
    "\n",
    "8. argmax(a): Index of the maximum value.\n",
    "\n",
    "9. percentile(a, q): Computes the qth percentile.\n",
    "\n",
    "8. corrcoef(x, y): Pearson product-moment correlation coefficients.\n",
    "\n",
    "9. cov(m): Covariance matrix.\n",
    "\n",
    "# 5. Linear Algebra Functions\n",
    "\n",
    "NumPy's linalg module provides linear algebra functions:\n",
    "\n",
    "1. dot(a, b): Dot product of two arrays.\n",
    "\n",
    "2. vdot(a, b): Dot product of two vectors.\n",
    "\n",
    "3. inner(a, b): Inner product of two arrays.\n",
    "\n",
    "4. matmul(a, b): Matrix product of two arrays.\n",
    "\n",
    "5. det(a): Determinant of an array.\n",
    "\n",
    "6. inv(a): Inverse of a matrix.\n",
    "\n",
    "7. eig(a): Eigenvalues and right eigenvectors.\n",
    "\n",
    "8. svd(a): Singular Value Decomposition.\n",
    "\n",
    "9. solve(a, b): Solves a linear matrix equation.\n",
    "\n",
    "10. lstsq(a, b): Computes the least-squares solution.\n",
    "\n",
    "# 6. Random Number Generation\n",
    "\n",
    "NumPy's random module offers functions for generating random numbers:\n",
    "\n",
    "1. rand(d0, d1, ..., dn): Random values in a given shape.\n",
    "\n",
    "2. randn(d0, d1, ..., dn): Samples from the standard normal distribution.\n",
    "\n",
    "3. randint(low, high, size): Random integers from low (inclusive) to high (exclusive).\n",
    "\n",
    "4. random(size): Random floats in the half-open interval [0.0, 1.0).\n",
    "\n",
    "5. choice(a, size): Generates a random sample from a given 1-D array.\n",
    "\n",
    "6. shuffle(x): Modifies a sequence in-place by shuffling its contents.\n",
    "\n",
    "7. seed(s): Seeds the random number generator.\n",
    "\n",
    "\n",
    "# 7. Logical and Comparison Functions\n",
    "\n",
    "Functions for logical operations and comparisons:\n",
    "\n",
    "1. where(condition, x, y): Return elements chosen from x or y depending on condition.\n",
    "\n",
    "2. nonzero(a): Returns the indices of non-zero elements.\n",
    "\n",
    "3. isnan(x): Tests element-wise for NaN and returns result as a boolean array.\n",
    "\n",
    "4. isinf(x): Tests element-wise for positive or negative infinity.\n",
    "\n",
    "5. isfinite(x): Tests element-wise for finiteness.\n",
    "\n",
    "6. logical_and(x1, x2): Computes the truth value of x1 AND x2 element-wise.\n",
    "\n",
    "7. logical_or(x1, x2): Computes the truth value of x1 OR x2 element-wise.\n",
    "\n",
    "8. logical_not(x): Computes the truth value of NOT x element-wise.\n",
    "\n",
    "9. logical_xor(x1, x2): Computes the truth value of x1 XOR x2 element-wise.\n",
    "\n",
    "# 8. Input and Output Functions\n",
    "\n",
    "Functions for reading and writing arrays to disk:\n",
    "\n",
    "1. save(file, arr): Saves an array to a binary file in .npy format.\n",
    "\n",
    "2. load(file): Loads an array from a .npy file.\n",
    "\n",
    "3. savetxt(fname, X): Saves an array to a text file.\n",
    "\n",
    "4. loadtxt(fname): Loads data from a text file.\n",
    "\n",
    "5. genfromtxt(fname): Loads data from a text file, with missing values handled as specified.\n",
    "\n",
    "6. fromfile(file): Constructs an array from data in a text or binary file.\n",
    "\n",
    "7. tofile(fid): Writes an array to a file as text or binary.\n",
    "\n",
    "# 9. Universal Functions (ufuncs)\n",
    "\n",
    "Universal functions operate element-wise on arrays:\n",
    "\n",
    "1. Arithmetic: add, subtract, multiply, divide, power, mod\n",
    "\n",
    "2. Trigonometric: sin, cos, tan, arcsin, arccos, arctan\n",
    "\n",
    "3. Exponential and logarithmic: exp, log, log10, log2\n",
    "\n",
    "4. Comparison: greater, less, equal, not_equal, greater_equal, less_equal\n",
    "\n",
    "5. Bitwise: bitwise_and, bitwise_or, bitwise_xor, invert\n",
    "\n",
    "6. Other: absolute, floor, ceil, round, trunc"
   ]
  },
  {
   "cell_type": "code",
   "execution_count": 4,
   "id": "ff9d1887-95c5-4c25-8f95-3b989a356969",
   "metadata": {},
   "outputs": [],
   "source": [
    "import numpy as np"
   ]
  },
  {
   "cell_type": "code",
   "execution_count": 5,
   "id": "eef2b8e8-e6e2-4f02-aa10-3a046481dd7b",
   "metadata": {},
   "outputs": [
    {
     "data": {
      "text/plain": [
       "[2, 4, 6, 8, 3, 2, 6]"
      ]
     },
     "execution_count": 5,
     "metadata": {},
     "output_type": "execute_result"
    }
   ],
   "source": [
    "l=[2,4,6,8,3,2,6]\n",
    "l"
   ]
  },
  {
   "cell_type": "code",
   "execution_count": 6,
   "id": "55cb1402-f129-4673-80c1-d7129f030056",
   "metadata": {},
   "outputs": [
    {
     "data": {
      "text/plain": [
       "array([2, 4, 6, 8, 3, 2, 6])"
      ]
     },
     "execution_count": 6,
     "metadata": {},
     "output_type": "execute_result"
    }
   ],
   "source": [
    "# np.array(): Creates an array from a list or tuple.\n",
    "a=np.array(l)\n",
    "a"
   ]
  },
  {
   "cell_type": "code",
   "execution_count": 7,
   "id": "82eda8a1-31ff-4e37-8ce1-4c951068bbfc",
   "metadata": {},
   "outputs": [
    {
     "data": {
      "text/plain": [
       "array([0., 0., 0., 0., 0.])"
      ]
     },
     "execution_count": 7,
     "metadata": {},
     "output_type": "execute_result"
    }
   ],
   "source": [
    "# np.zeros(shape): Returns a new array of given shape and type, filled with zeros.\n",
    "a1=np.zeros(5)\n",
    "a1"
   ]
  },
  {
   "cell_type": "code",
   "execution_count": 8,
   "id": "aab62bd6-e75c-4807-83ad-1d36b5e179bf",
   "metadata": {},
   "outputs": [
    {
     "data": {
      "text/plain": [
       "array([1., 1., 1., 1.])"
      ]
     },
     "execution_count": 8,
     "metadata": {},
     "output_type": "execute_result"
    }
   ],
   "source": [
    "# np.ones(shape): Returns a new array of given shape and type, filled with ones.\n",
    "a2=np.ones(4)\n",
    "a2"
   ]
  },
  {
   "cell_type": "code",
   "execution_count": 9,
   "id": "b1c7c7f5-e09f-4630-9000-ddb85467240f",
   "metadata": {},
   "outputs": [
    {
     "data": {
      "text/plain": [
       "array([6.23042070e-307, 4.67296746e-307, 1.69121096e-306, 1.22383221e-307,\n",
       "       1.89146896e-307, 7.56571288e-307])"
      ]
     },
     "execution_count": 9,
     "metadata": {},
     "output_type": "execute_result"
    }
   ],
   "source": [
    "# np.empty(shape): Returns a new array of given shape and type, without initializing entries.\n",
    "a3=np.empty(6)\n",
    "a3"
   ]
  },
  {
   "cell_type": "code",
   "execution_count": 10,
   "id": "7be8c878-e292-4203-9ef9-30d571c064b5",
   "metadata": {},
   "outputs": [
    {
     "data": {
      "text/plain": [
       "array([ 1,  3,  5,  7,  9, 11])"
      ]
     },
     "execution_count": 10,
     "metadata": {},
     "output_type": "execute_result"
    }
   ],
   "source": [
    "# np.arange(start, stop, step): Returns evenly spaced values within a given interval.\n",
    "np.arange(1,12,2)"
   ]
  },
  {
   "cell_type": "code",
   "execution_count": 11,
   "id": "666a4af2-406a-4040-9330-2129f0d74648",
   "metadata": {},
   "outputs": [
    {
     "data": {
      "text/plain": [
       "array([ 2.        ,  3.33333333,  4.66666667,  6.        ,  7.33333333,\n",
       "        8.66666667, 10.        ])"
      ]
     },
     "execution_count": 11,
     "metadata": {},
     "output_type": "execute_result"
    }
   ],
   "source": [
    "# np.linspace(start, stop, num): Returns evenly spaced numbers over a specified interval.\n",
    "# it prints 7 evenly spaced numbers between 2 and 10 (inclusive).\n",
    "np.linspace(2,10,7)"
   ]
  },
  {
   "cell_type": "code",
   "execution_count": 12,
   "id": "0853467e-4ce0-4c06-beb2-e8ad1b97a116",
   "metadata": {},
   "outputs": [
    {
     "data": {
      "text/plain": [
       "array([[1., 0., 0., 0.],\n",
       "       [0., 1., 0., 0.],\n",
       "       [0., 0., 1., 0.],\n",
       "       [0., 0., 0., 1.]])"
      ]
     },
     "execution_count": 12,
     "metadata": {},
     "output_type": "execute_result"
    }
   ],
   "source": [
    "# np.eye(N): Returns a 2-D array with ones on the diagonal and zeros elsewhere.\n",
    "np.eye(4)"
   ]
  },
  {
   "cell_type": "code",
   "execution_count": 13,
   "id": "647b985f-805e-47f9-b905-f9d1951139ef",
   "metadata": {},
   "outputs": [
    {
     "data": {
      "text/plain": [
       "array([5, 5, 5, 5, 5, 5, 5, 5])"
      ]
     },
     "execution_count": 13,
     "metadata": {},
     "output_type": "execute_result"
    }
   ],
   "source": [
    "# np.full(shape, fill_value): Returns a new array of given shape and type, filled with fill_value.\n",
    "np.full(8,5)"
   ]
  },
  {
   "cell_type": "code",
   "execution_count": 14,
   "id": "bde2c6a7-e76f-4bdb-8970-af169cdd1c47",
   "metadata": {},
   "outputs": [
    {
     "data": {
      "text/plain": [
       "array([[ 3,  4,  5,  6],\n",
       "       [ 7,  8,  9, 10],\n",
       "       [11, 12, 13, 14]])"
      ]
     },
     "execution_count": 14,
     "metadata": {},
     "output_type": "execute_result"
    }
   ],
   "source": [
    "# reshape(a, newshape): Gives a new shape to an array without changing its data.\n",
    "r=np.arange(3,15).reshape(3,4)\n",
    "r"
   ]
  },
  {
   "cell_type": "code",
   "execution_count": 15,
   "id": "870fa10a-1162-4b5d-a1f8-e7ad97aaac69",
   "metadata": {},
   "outputs": [
    {
     "data": {
      "text/plain": [
       "array([[ 3,  4,  5,  6],\n",
       "       [ 7,  8,  9, 10],\n",
       "       [11, 12, 13, 14]])"
      ]
     },
     "execution_count": 15,
     "metadata": {},
     "output_type": "execute_result"
    }
   ],
   "source": [
    "r"
   ]
  },
  {
   "cell_type": "code",
   "execution_count": 16,
   "id": "f071597c-3ed3-4686-bf6e-d73bed5bd1db",
   "metadata": {},
   "outputs": [
    {
     "data": {
      "text/plain": [
       "array([ 3,  4,  5,  6,  7,  8,  9, 10, 11, 12, 13, 14])"
      ]
     },
     "execution_count": 16,
     "metadata": {},
     "output_type": "execute_result"
    }
   ],
   "source": [
    "# ravel(a): Returns a contiguous flattened array.\n",
    "np.ravel(r)"
   ]
  },
  {
   "cell_type": "code",
   "execution_count": 17,
   "id": "40450537-503f-4f58-b65e-aafbaaafacac",
   "metadata": {},
   "outputs": [
    {
     "data": {
      "text/plain": [
       "array([[ 3,  7, 11],\n",
       "       [ 4,  8, 12],\n",
       "       [ 5,  9, 13],\n",
       "       [ 6, 10, 14]])"
      ]
     },
     "execution_count": 17,
     "metadata": {},
     "output_type": "execute_result"
    }
   ],
   "source": [
    "# transpose(a): Permutes the dimensions of an array.\n",
    "np.transpose(r) # rows become columns, columns become rows"
   ]
  },
  {
   "cell_type": "code",
   "execution_count": 18,
   "id": "7621dc4a-1f35-4baf-b2c5-8c8fb1e831aa",
   "metadata": {},
   "outputs": [
    {
     "data": {
      "text/plain": [
       "array([[ 1,  2,  3,  4],\n",
       "       [ 5,  6,  7,  8],\n",
       "       [ 9, 10, 11, 12]])"
      ]
     },
     "execution_count": 18,
     "metadata": {},
     "output_type": "execute_result"
    }
   ],
   "source": [
    "r1=np.arange(1,13).reshape(3,4)\n",
    "r1"
   ]
  },
  {
   "cell_type": "code",
   "execution_count": 19,
   "id": "de67d7a2-db2e-4863-ae7d-0388e0d92018",
   "metadata": {},
   "outputs": [
    {
     "data": {
      "text/plain": [
       "array([[ 3,  4,  5,  6],\n",
       "       [ 7,  8,  9, 10],\n",
       "       [11, 12, 13, 14]])"
      ]
     },
     "execution_count": 19,
     "metadata": {},
     "output_type": "execute_result"
    }
   ],
   "source": [
    "r"
   ]
  },
  {
   "cell_type": "code",
   "execution_count": 20,
   "id": "c691e4c6-a846-4211-b465-cb93d7516043",
   "metadata": {},
   "outputs": [
    {
     "data": {
      "text/plain": [
       "array([[ 1,  2,  3,  4],\n",
       "       [ 5,  6,  7,  8],\n",
       "       [ 9, 10, 11, 12]])"
      ]
     },
     "execution_count": 20,
     "metadata": {},
     "output_type": "execute_result"
    }
   ],
   "source": [
    "r1"
   ]
  },
  {
   "cell_type": "code",
   "execution_count": 21,
   "id": "78853a47-e400-43ed-9285-245a81337a18",
   "metadata": {},
   "outputs": [
    {
     "data": {
      "text/plain": [
       "array([[ 3,  4,  5,  6,  1,  2,  3,  4],\n",
       "       [ 7,  8,  9, 10,  5,  6,  7,  8],\n",
       "       [11, 12, 13, 14,  9, 10, 11, 12]])"
      ]
     },
     "execution_count": 21,
     "metadata": {},
     "output_type": "execute_result"
    }
   ],
   "source": [
    "# concatenate((a1, a2, ...), axis=0): Joins a sequence of arrays along an existing axis.\n",
    "np.concatenate((r,r1),axis=1)  # axis 0=row, 1=column"
   ]
  },
  {
   "cell_type": "code",
   "execution_count": 22,
   "id": "91d49bae-699e-4b3e-9720-15b4a17fbafe",
   "metadata": {},
   "outputs": [
    {
     "data": {
      "text/plain": [
       "[array([[3, 4, 5, 6]]), array([[ 7,  8,  9, 10]]), array([[11, 12, 13, 14]])]"
      ]
     },
     "execution_count": 22,
     "metadata": {},
     "output_type": "execute_result"
    }
   ],
   "source": [
    "#split(ary, indices_or_sections, axis=0): Splits an array into multiple sub-arrays.\n",
    "np.split(r,3,axis=0)"
   ]
  },
  {
   "cell_type": "code",
   "execution_count": 23,
   "id": "0b884547-62c0-49bd-9dba-b4b305cead8a",
   "metadata": {},
   "outputs": [
    {
     "data": {
      "text/plain": [
       "array([[ 3,  4,  5,  6],\n",
       "       [ 7,  8,  9, 10],\n",
       "       [11, 12, 13, 14]])"
      ]
     },
     "execution_count": 23,
     "metadata": {},
     "output_type": "execute_result"
    }
   ],
   "source": [
    "r"
   ]
  },
  {
   "cell_type": "code",
   "execution_count": 24,
   "id": "417779ec-8f93-4baf-ba35-5ba87679c9cd",
   "metadata": {},
   "outputs": [
    {
     "data": {
      "text/plain": [
       "array([[ 1,  2,  3,  4],\n",
       "       [ 5,  6,  7,  8],\n",
       "       [ 9, 10, 11, 12]])"
      ]
     },
     "execution_count": 24,
     "metadata": {},
     "output_type": "execute_result"
    }
   ],
   "source": [
    "r1"
   ]
  },
  {
   "cell_type": "code",
   "execution_count": 25,
   "id": "fbb0423c-9211-47ce-b0fc-6cab80435715",
   "metadata": {},
   "outputs": [
    {
     "data": {
      "text/plain": [
       "array([[[ 3,  4,  5,  6],\n",
       "        [ 1,  2,  3,  4]],\n",
       "\n",
       "       [[ 7,  8,  9, 10],\n",
       "        [ 5,  6,  7,  8]],\n",
       "\n",
       "       [[11, 12, 13, 14],\n",
       "        [ 9, 10, 11, 12]]])"
      ]
     },
     "execution_count": 25,
     "metadata": {},
     "output_type": "execute_result"
    }
   ],
   "source": [
    "#stack(arrays, axis=0): Joins a sequence of arrays along a new axis.\n",
    "np.stack((r,r1),axis=1)   # joins the columns of each array individually "
   ]
  },
  {
   "cell_type": "code",
   "execution_count": 26,
   "id": "8f40a496-c0f3-47b4-85d2-afdcf4e748e9",
   "metadata": {},
   "outputs": [
    {
     "data": {
      "text/plain": [
       "array([[ 3,  4,  5,  6],\n",
       "       [ 7,  8,  9, 10],\n",
       "       [11, 12, 13, 14]])"
      ]
     },
     "execution_count": 26,
     "metadata": {},
     "output_type": "execute_result"
    }
   ],
   "source": [
    "r"
   ]
  },
  {
   "cell_type": "code",
   "execution_count": 27,
   "id": "3e439aff-aed2-4d0e-816a-405c97b5885d",
   "metadata": {},
   "outputs": [
    {
     "data": {
      "text/plain": [
       "array([[ 1,  2,  3,  4],\n",
       "       [ 5,  6,  7,  8],\n",
       "       [ 9, 10, 11, 12]])"
      ]
     },
     "execution_count": 27,
     "metadata": {},
     "output_type": "execute_result"
    }
   ],
   "source": [
    "r1"
   ]
  },
  {
   "cell_type": "code",
   "execution_count": 28,
   "id": "167fd240-b05e-45d3-a98b-efc861394406",
   "metadata": {},
   "outputs": [
    {
     "data": {
      "text/plain": [
       "array([[ 4,  6,  8, 10],\n",
       "       [12, 14, 16, 18],\n",
       "       [20, 22, 24, 26]])"
      ]
     },
     "execution_count": 28,
     "metadata": {},
     "output_type": "execute_result"
    }
   ],
   "source": [
    "# add(x1, x2): Adds arguments element-wise.\n",
    "np.add(r,r1)"
   ]
  },
  {
   "cell_type": "code",
   "execution_count": 29,
   "id": "b7996a5f-5800-4e84-9506-019cbdbd975f",
   "metadata": {},
   "outputs": [
    {
     "data": {
      "text/plain": [
       "array([[2, 2, 2, 2],\n",
       "       [2, 2, 2, 2],\n",
       "       [2, 2, 2, 2]])"
      ]
     },
     "execution_count": 29,
     "metadata": {},
     "output_type": "execute_result"
    }
   ],
   "source": [
    "# subtract(x1, x2): Subtracts arguments element-wise.\n",
    "np.subtract(r,r1)"
   ]
  },
  {
   "cell_type": "code",
   "execution_count": 30,
   "id": "fda1b1c0-a2ee-4da6-b304-f50333e491ba",
   "metadata": {},
   "outputs": [
    {
     "data": {
      "text/plain": [
       "array([[  3,   8,  15,  24],\n",
       "       [ 35,  48,  63,  80],\n",
       "       [ 99, 120, 143, 168]])"
      ]
     },
     "execution_count": 30,
     "metadata": {},
     "output_type": "execute_result"
    }
   ],
   "source": [
    "# multiply(x1, x2): Multiplies arguments element-wise.\n",
    "np.multiply(r,r1)"
   ]
  },
  {
   "cell_type": "code",
   "execution_count": 31,
   "id": "a5162806-3f91-4f98-8d92-d31d3c16001b",
   "metadata": {},
   "outputs": [
    {
     "data": {
      "text/plain": [
       "array([[3.        , 2.        , 1.66666667, 1.5       ],\n",
       "       [1.4       , 1.33333333, 1.28571429, 1.25      ],\n",
       "       [1.22222222, 1.2       , 1.18181818, 1.16666667]])"
      ]
     },
     "execution_count": 31,
     "metadata": {},
     "output_type": "execute_result"
    }
   ],
   "source": [
    "# divide(x1, x2): Divides arguments element-wise.\n",
    "np.divide(r,r1)"
   ]
  },
  {
   "cell_type": "code",
   "execution_count": 32,
   "id": "11aea368-4535-4ab2-a832-7c80055eb4f2",
   "metadata": {},
   "outputs": [
    {
     "data": {
      "text/plain": [
       "array([[          3,          16,         125,        1296],\n",
       "       [      16807,      262144,     4782969,   100000000],\n",
       "       [-1937019605,  1787822080,  1159031605,   344068096]])"
      ]
     },
     "execution_count": 32,
     "metadata": {},
     "output_type": "execute_result"
    }
   ],
   "source": [
    "# power(x1, x2): First array elements raised to powers from second array, element-wise.\n",
    "np.power(r,r1)"
   ]
  },
  {
   "cell_type": "code",
   "execution_count": 33,
   "id": "2678cdab-1ab5-4dfd-965a-8fe8821b2e4d",
   "metadata": {},
   "outputs": [
    {
     "data": {
      "text/plain": [
       "array([[0, 0, 2, 2],\n",
       "       [2, 2, 2, 2],\n",
       "       [2, 2, 2, 2]])"
      ]
     },
     "execution_count": 33,
     "metadata": {},
     "output_type": "execute_result"
    }
   ],
   "source": [
    "#mod(x1, x2): Returns the element-wise remainder of division.\n",
    "np.mod(r,r1)"
   ]
  },
  {
   "cell_type": "code",
   "execution_count": 34,
   "id": "e8f1aea9-bd1c-4b69-a7c1-61f5028b6f40",
   "metadata": {},
   "outputs": [
    {
     "data": {
      "text/plain": [
       "array([[1.73205081, 2.        , 2.23606798, 2.44948974],\n",
       "       [2.64575131, 2.82842712, 3.        , 3.16227766],\n",
       "       [3.31662479, 3.46410162, 3.60555128, 3.74165739]])"
      ]
     },
     "execution_count": 34,
     "metadata": {},
     "output_type": "execute_result"
    }
   ],
   "source": [
    "# sqrt(x): Returns the non-negative square-root of an array, element-wise.\n",
    "np.sqrt(r)"
   ]
  },
  {
   "cell_type": "code",
   "execution_count": 35,
   "id": "2c85ef36-c775-44e6-bc96-33938a3e6890",
   "metadata": {},
   "outputs": [
    {
     "data": {
      "text/plain": [
       "array([[2.00855369e+01, 5.45981500e+01, 1.48413159e+02, 4.03428793e+02],\n",
       "       [1.09663316e+03, 2.98095799e+03, 8.10308393e+03, 2.20264658e+04],\n",
       "       [5.98741417e+04, 1.62754791e+05, 4.42413392e+05, 1.20260428e+06]])"
      ]
     },
     "execution_count": 35,
     "metadata": {},
     "output_type": "execute_result"
    }
   ],
   "source": [
    "# exp(x): Calculates the exponential of all elements in the input array.\n",
    "np.exp(r)"
   ]
  },
  {
   "cell_type": "code",
   "execution_count": 36,
   "id": "55e07e04-0e73-4939-b22c-c7511a8e439e",
   "metadata": {},
   "outputs": [
    {
     "data": {
      "text/plain": [
       "array([[1.09861229, 1.38629436, 1.60943791, 1.79175947],\n",
       "       [1.94591015, 2.07944154, 2.19722458, 2.30258509],\n",
       "       [2.39789527, 2.48490665, 2.56494936, 2.63905733]])"
      ]
     },
     "execution_count": 36,
     "metadata": {},
     "output_type": "execute_result"
    }
   ],
   "source": [
    "# log(x): Natural logarithm, element-wise.\n",
    "np.log(r)"
   ]
  },
  {
   "cell_type": "code",
   "execution_count": 37,
   "id": "836dedc1-4ae6-4134-be58-0ca597cfadf8",
   "metadata": {},
   "outputs": [
    {
     "data": {
      "text/plain": [
       "array([[0.47712125, 0.60205999, 0.69897   , 0.77815125],\n",
       "       [0.84509804, 0.90308999, 0.95424251, 1.        ],\n",
       "       [1.04139269, 1.07918125, 1.11394335, 1.14612804]])"
      ]
     },
     "execution_count": 37,
     "metadata": {},
     "output_type": "execute_result"
    }
   ],
   "source": [
    "#log10(x): Base-10 logarithm, element-wise. \n",
    "np.log10(r)"
   ]
  },
  {
   "cell_type": "code",
   "execution_count": 38,
   "id": "475c0121-20c5-4b91-bba3-c1e36c1ddd5f",
   "metadata": {},
   "outputs": [
    {
     "data": {
      "text/plain": [
       "array([[ 3,  4,  5,  6],\n",
       "       [ 7,  8,  9, 10],\n",
       "       [11, 12, 13, 14]])"
      ]
     },
     "execution_count": 38,
     "metadata": {},
     "output_type": "execute_result"
    }
   ],
   "source": [
    "r"
   ]
  },
  {
   "cell_type": "code",
   "execution_count": 39,
   "id": "f606988b-0d00-4e94-a9d1-a7b486a31006",
   "metadata": {},
   "outputs": [
    {
     "name": "stdout",
     "output_type": "stream",
     "text": [
      "[[ 0.14112001 -0.7568025  -0.95892427 -0.2794155 ]\n",
      " [ 0.6569866   0.98935825  0.41211849 -0.54402111]\n",
      " [-0.99999021 -0.53657292  0.42016704  0.99060736]]\n",
      "[[-0.9899925  -0.65364362  0.28366219  0.96017029]\n",
      " [ 0.75390225 -0.14550003 -0.91113026 -0.83907153]\n",
      " [ 0.0044257   0.84385396  0.90744678  0.13673722]]\n",
      "[[-1.42546543e-01  1.15782128e+00 -3.38051501e+00 -2.91006191e-01]\n",
      " [ 8.71447983e-01 -6.79971146e+00 -4.52315659e-01  6.48360827e-01]\n",
      " [-2.25950846e+02 -6.35859929e-01  4.63021133e-01  7.24460662e+00]]\n"
     ]
    }
   ],
   "source": [
    "# sin(x), cos(x), tan(x): Trigonometric functions.\n",
    "\n",
    "print(np.sin(r))\n",
    "\n",
    "print(np.cos(r))\n",
    "\n",
    "print(np.tan(r))"
   ]
  },
  {
   "cell_type": "code",
   "execution_count": 40,
   "id": "e236a48c-7140-4fca-8e32-c49d3d6a031e",
   "metadata": {},
   "outputs": [
    {
     "name": "stdout",
     "output_type": "stream",
     "text": [
      "[[nan nan nan nan]\n",
      " [nan nan nan nan]\n",
      " [nan nan nan nan]]\n",
      "[[nan nan nan nan]\n",
      " [nan nan nan nan]\n",
      " [nan nan nan nan]]\n",
      "[[1.24904577 1.32581766 1.37340077 1.40564765]\n",
      " [1.42889927 1.44644133 1.46013911 1.47112767]\n",
      " [1.48013644 1.48765509 1.49402444 1.49948886]]\n"
     ]
    },
    {
     "name": "stderr",
     "output_type": "stream",
     "text": [
      "C:\\Users\\91630\\AppData\\Local\\Temp\\ipykernel_33272\\1640613425.py:3: RuntimeWarning: invalid value encountered in arcsin\n",
      "  print(np.arcsin(r))\n",
      "C:\\Users\\91630\\AppData\\Local\\Temp\\ipykernel_33272\\1640613425.py:5: RuntimeWarning: invalid value encountered in arccos\n",
      "  print(np.arccos(r))\n"
     ]
    }
   ],
   "source": [
    "# arcsin(x), arccos(x), arctan(x): Inverse trigonometric functions.\n",
    "\n",
    "print(np.arcsin(r))\n",
    "\n",
    "print(np.arccos(r))\n",
    "\n",
    "print(np.arctan(r))\n"
   ]
  },
  {
   "cell_type": "code",
   "execution_count": 41,
   "id": "daf993b4-58ae-4559-bb44-34ee711a815e",
   "metadata": {},
   "outputs": [
    {
     "name": "stdout",
     "output_type": "stream",
     "text": [
      "[[1.00178749e+01 2.72899172e+01 7.42032106e+01 2.01713157e+02]\n",
      " [5.48316123e+02 1.49047883e+03 4.05154190e+03 1.10132329e+04]\n",
      " [2.99370708e+04 8.13773957e+04 2.21206696e+05 6.01302142e+05]]\n",
      "[[1.00676620e+01 2.73082328e+01 7.42099485e+01 2.01715636e+02]\n",
      " [5.48317035e+02 1.49047916e+03 4.05154203e+03 1.10132329e+04]\n",
      " [2.99370709e+04 8.13773957e+04 2.21206696e+05 6.01302142e+05]]\n",
      "[[0.99505475 0.9993293  0.9999092  0.99998771]\n",
      " [0.99999834 0.99999977 0.99999997 1.        ]\n",
      " [1.         1.         1.         1.        ]]\n"
     ]
    }
   ],
   "source": [
    "# sinh(x), cosh(x), tanh(x): Hyperbolic functions.\n",
    "\n",
    "print(np.sinh(r))\n",
    "\n",
    "print(np.cosh(r))\n",
    "\n",
    "print(np.tanh(r))\n"
   ]
  },
  {
   "cell_type": "code",
   "execution_count": 42,
   "id": "58d0f651-652a-44f1-96a6-24c5f449757c",
   "metadata": {},
   "outputs": [
    {
     "name": "stdout",
     "output_type": "stream",
     "text": [
      "[[1.81844646 2.09471255 2.31243834 2.49177985]\n",
      " [2.64412076 2.77647228 2.89344399 2.99822295]\n",
      " [3.0931022  3.17978544 3.25957256 3.33347759]]\n",
      "[[1.76274717 2.06343707 2.29243167 2.47788873]\n",
      " [2.63391579 2.76865938 2.88727095 2.99322285]\n",
      " [3.0889699  3.17631318 3.25661395 3.33092655]]\n",
      "[[nan nan nan nan]\n",
      " [nan nan nan nan]\n",
      " [nan nan nan nan]]\n"
     ]
    },
    {
     "name": "stderr",
     "output_type": "stream",
     "text": [
      "C:\\Users\\91630\\AppData\\Local\\Temp\\ipykernel_33272\\3792555716.py:7: RuntimeWarning: invalid value encountered in arctanh\n",
      "  print(np.arctanh(r))\n"
     ]
    }
   ],
   "source": [
    "# arcsinh(x), arccosh(x), arctanh(x): Inverse hyperbolic functions.\n",
    "\n",
    "print(np.arcsinh(r))\n",
    "\n",
    "print(np.arccosh(r))\n",
    "\n",
    "print(np.arctanh(r))\n"
   ]
  },
  {
   "cell_type": "code",
   "execution_count": 43,
   "id": "58f3c816-2eb4-4509-bdd2-0f92bbc1a7f7",
   "metadata": {},
   "outputs": [
    {
     "data": {
      "text/plain": [
       "8.5"
      ]
     },
     "execution_count": 43,
     "metadata": {},
     "output_type": "execute_result"
    }
   ],
   "source": [
    "# mean(a): Computes the arithmetic mean.\n",
    "np.mean(r)"
   ]
  },
  {
   "cell_type": "code",
   "execution_count": 44,
   "id": "2557c89d-475c-40f7-bcca-a8da0cc54651",
   "metadata": {},
   "outputs": [
    {
     "data": {
      "text/plain": [
       "5.0"
      ]
     },
     "execution_count": 44,
     "metadata": {},
     "output_type": "execute_result"
    }
   ],
   "source": [
    "# median(a): Computes the median.\n",
    "from numpy import *\n",
    "d=array([3,5,4,22,35])\n",
    "median(d)"
   ]
  },
  {
   "cell_type": "code",
   "execution_count": 45,
   "id": "421e6fe7-a480-4dca-9a00-9459fde7102c",
   "metadata": {},
   "outputs": [
    {
     "data": {
      "text/plain": [
       "array([[ 3,  4,  5,  6],\n",
       "       [ 7,  8,  9, 10],\n",
       "       [11, 12, 13, 14]])"
      ]
     },
     "execution_count": 45,
     "metadata": {},
     "output_type": "execute_result"
    }
   ],
   "source": [
    "r"
   ]
  },
  {
   "cell_type": "code",
   "execution_count": 46,
   "id": "924224e0-9945-45ea-94b0-6e6dc9917ccc",
   "metadata": {},
   "outputs": [
    {
     "data": {
      "text/plain": [
       "3.452052529534663"
      ]
     },
     "execution_count": 46,
     "metadata": {},
     "output_type": "execute_result"
    }
   ],
   "source": [
    "# std(a): Computes the standard deviation.\n",
    "np.std(r)"
   ]
  },
  {
   "cell_type": "code",
   "execution_count": 47,
   "id": "1c3ab207-710b-4bf5-96ea-991734c5155a",
   "metadata": {},
   "outputs": [
    {
     "data": {
      "text/plain": [
       "11.916666666666666"
      ]
     },
     "execution_count": 47,
     "metadata": {},
     "output_type": "execute_result"
    }
   ],
   "source": [
    "# var(a): Computes the variance.\n",
    "np.var(r)"
   ]
  },
  {
   "cell_type": "code",
   "execution_count": 48,
   "id": "dc94a787-94d5-45dd-b4b2-0e4ba258bd32",
   "metadata": {},
   "outputs": [
    {
     "data": {
      "text/plain": [
       "3"
      ]
     },
     "execution_count": 48,
     "metadata": {},
     "output_type": "execute_result"
    }
   ],
   "source": [
    "# min(a): Finds the minimum value.\n",
    "np.min(r)"
   ]
  },
  {
   "cell_type": "code",
   "execution_count": 49,
   "id": "d3c94b46-44e3-4e1a-aaeb-d41a49a5da19",
   "metadata": {},
   "outputs": [
    {
     "data": {
      "text/plain": [
       "14"
      ]
     },
     "execution_count": 49,
     "metadata": {},
     "output_type": "execute_result"
    }
   ],
   "source": [
    "# max(a): Finds the maximum value.\n",
    "np.max(r)"
   ]
  },
  {
   "cell_type": "code",
   "execution_count": 50,
   "id": "b79d9483-99b2-46c3-8378-a820cf3bc8f0",
   "metadata": {},
   "outputs": [
    {
     "data": {
      "text/plain": [
       "0"
      ]
     },
     "execution_count": 50,
     "metadata": {},
     "output_type": "execute_result"
    }
   ],
   "source": [
    "# argmin(a): Index of the minimum value.\n",
    "np.argmin(r)"
   ]
  },
  {
   "cell_type": "code",
   "execution_count": 51,
   "id": "95dbe27f-1775-43f0-b5ef-daf323f24ef2",
   "metadata": {},
   "outputs": [
    {
     "data": {
      "text/plain": [
       "11"
      ]
     },
     "execution_count": 51,
     "metadata": {},
     "output_type": "execute_result"
    }
   ],
   "source": [
    "# argmax(a): Index of the maximum value.\n",
    "np.argmax(r)"
   ]
  },
  {
   "cell_type": "code",
   "execution_count": 52,
   "id": "92f8a366-259b-43d0-8e13-ab3925039846",
   "metadata": {},
   "outputs": [
    {
     "data": {
      "text/plain": [
       "array([[3.11, 3.22, 3.33, 3.44],\n",
       "       [3.55, 3.66, 3.77, 3.88],\n",
       "       [3.99, 4.1 , 4.21, 4.32]])"
      ]
     },
     "execution_count": 52,
     "metadata": {},
     "output_type": "execute_result"
    }
   ],
   "source": [
    "# percentile(a, q): Computes the qth percentile.\n",
    "r3=np.percentile(r,r1)\n",
    "r3"
   ]
  },
  {
   "cell_type": "code",
   "execution_count": 53,
   "id": "eaf4d853-bf45-4c04-a9af-8131179ec0eb",
   "metadata": {},
   "outputs": [
    {
     "data": {
      "text/plain": [
       "array([[1., 1., 1., 1., 1., 1.],\n",
       "       [1., 1., 1., 1., 1., 1.],\n",
       "       [1., 1., 1., 1., 1., 1.],\n",
       "       [1., 1., 1., 1., 1., 1.],\n",
       "       [1., 1., 1., 1., 1., 1.],\n",
       "       [1., 1., 1., 1., 1., 1.]])"
      ]
     },
     "execution_count": 53,
     "metadata": {},
     "output_type": "execute_result"
    }
   ],
   "source": [
    "# corrcoef(x, y): Pearson product-moment correlation coefficients.\n",
    "np.corrcoef(r,r1)"
   ]
  },
  {
   "cell_type": "code",
   "execution_count": 54,
   "id": "9149aa0f-2fb4-4e1f-858a-f49607019e34",
   "metadata": {},
   "outputs": [
    {
     "data": {
      "text/plain": [
       "array([[1.66666667, 1.66666667, 1.66666667],\n",
       "       [1.66666667, 1.66666667, 1.66666667],\n",
       "       [1.66666667, 1.66666667, 1.66666667]])"
      ]
     },
     "execution_count": 54,
     "metadata": {},
     "output_type": "execute_result"
    }
   ],
   "source": [
    "# cov(m): Covariance matrix.\n",
    "np.cov(r)"
   ]
  },
  {
   "cell_type": "code",
   "execution_count": 55,
   "id": "4ddd039f-b8db-443c-bec2-613fb1ab7aea",
   "metadata": {},
   "outputs": [
    {
     "data": {
      "text/plain": [
       "array([[ 3,  4,  5,  6],\n",
       "       [ 7,  8,  9, 10],\n",
       "       [11, 12, 13, 14]])"
      ]
     },
     "execution_count": 55,
     "metadata": {},
     "output_type": "execute_result"
    }
   ],
   "source": [
    "r"
   ]
  },
  {
   "cell_type": "code",
   "execution_count": 56,
   "id": "8a188bbd-fea8-4873-9af6-fab86200f06d",
   "metadata": {},
   "outputs": [
    {
     "data": {
      "text/plain": [
       "array([[ 1,  2,  3,  4],\n",
       "       [ 5,  6,  7,  8],\n",
       "       [ 9, 10, 11, 12]])"
      ]
     },
     "execution_count": 56,
     "metadata": {},
     "output_type": "execute_result"
    }
   ],
   "source": [
    "r1"
   ]
  },
  {
   "cell_type": "code",
   "execution_count": 57,
   "id": "e7b6448f-ed1c-4aa4-8046-6167f84ef729",
   "metadata": {},
   "outputs": [
    {
     "data": {
      "text/plain": [
       "array([[ 50, 122, 194],\n",
       "       [ 90, 226, 362],\n",
       "       [130, 330, 530]])"
      ]
     },
     "execution_count": 57,
     "metadata": {},
     "output_type": "execute_result"
    }
   ],
   "source": [
    "# dot(a, b): Dot product of two arrays.\n",
    "np.dot(r,r1.T)  #Now you're doing (3×4) · (4×3) → Result shape: (3×3)"
   ]
  },
  {
   "cell_type": "code",
   "execution_count": 58,
   "id": "b1ff9e30-ecd9-4878-9e9d-0eaca1dba672",
   "metadata": {},
   "outputs": [
    {
     "data": {
      "text/plain": [
       "806"
      ]
     },
     "execution_count": 58,
     "metadata": {},
     "output_type": "execute_result"
    }
   ],
   "source": [
    "# vdot(a, b): Dot product of two vectors.\n",
    "np.vdot(r,r1)"
   ]
  },
  {
   "cell_type": "code",
   "execution_count": 59,
   "id": "2ca58a1e-0cae-49f0-92de-d013230eae21",
   "metadata": {},
   "outputs": [
    {
     "data": {
      "text/plain": [
       "array([[ 3,  4,  5,  6],\n",
       "       [ 7,  8,  9, 10],\n",
       "       [11, 12, 13, 14]])"
      ]
     },
     "execution_count": 59,
     "metadata": {},
     "output_type": "execute_result"
    }
   ],
   "source": [
    "r"
   ]
  },
  {
   "cell_type": "code",
   "execution_count": 60,
   "id": "3d0f9302-2abb-4833-a402-df2e3c5460b4",
   "metadata": {},
   "outputs": [
    {
     "data": {
      "text/plain": [
       "array([[ 1,  2,  3,  4],\n",
       "       [ 5,  6,  7,  8],\n",
       "       [ 9, 10, 11, 12]])"
      ]
     },
     "execution_count": 60,
     "metadata": {},
     "output_type": "execute_result"
    }
   ],
   "source": [
    "r1"
   ]
  },
  {
   "cell_type": "code",
   "execution_count": 61,
   "id": "7415b493-3e48-4ff3-9ff9-31a20fcafdba",
   "metadata": {},
   "outputs": [
    {
     "data": {
      "text/plain": [
       "array([[ 50, 122, 194],\n",
       "       [ 90, 226, 362],\n",
       "       [130, 330, 530]])"
      ]
     },
     "execution_count": 61,
     "metadata": {},
     "output_type": "execute_result"
    }
   ],
   "source": [
    "# inner(a, b): Inner product of two arrays.\n",
    "np.inner(r,r1)"
   ]
  },
  {
   "cell_type": "code",
   "execution_count": 62,
   "id": "e777b80e-dbd0-409d-bfb6-5825e09fff94",
   "metadata": {},
   "outputs": [
    {
     "data": {
      "text/plain": [
       "array([[137, 158, 179, 200],\n",
       "       [152, 176, 200, 224],\n",
       "       [167, 194, 221, 248],\n",
       "       [182, 212, 242, 272]])"
      ]
     },
     "execution_count": 62,
     "metadata": {},
     "output_type": "execute_result"
    }
   ],
   "source": [
    "# matmul(a, b): Matrix product of two arrays.\n",
    "np.matmul(r.T,r1)  #Now you're doing (3×4) · (4×3) → Result shape: (3×3)"
   ]
  },
  {
   "cell_type": "code",
   "execution_count": 63,
   "id": "27b823f2-8952-4054-b95a-1eb048411d9c",
   "metadata": {},
   "outputs": [
    {
     "data": {
      "text/plain": [
       "array([[0.37323679, 0.21364719, 0.09830893, 0.91676731, 0.32245547],\n",
       "       [0.36329171, 0.46816945, 0.09528808, 0.97919025, 0.88873521],\n",
       "       [0.86714161, 0.28686825, 0.00187199, 0.34245283, 0.77456166]])"
      ]
     },
     "execution_count": 63,
     "metadata": {},
     "output_type": "execute_result"
    }
   ],
   "source": [
    "# rand(d0, d1, ..., dn): Random values in a given shape.\n",
    "np.random.rand(3,5)"
   ]
  },
  {
   "cell_type": "code",
   "execution_count": 64,
   "id": "e774e489-729c-4912-8a93-3f1aceae5bb9",
   "metadata": {},
   "outputs": [
    {
     "data": {
      "text/plain": [
       "array([[-0.4223633 , -1.1097383 ,  0.41959071],\n",
       "       [ 0.52612428, -0.82838783,  0.70221143],\n",
       "       [ 0.05061707,  1.16429148, -0.11770413],\n",
       "       [-0.90066819,  1.89574982, -0.86002139],\n",
       "       [ 0.754169  , -0.56155888,  0.18213831]])"
      ]
     },
     "execution_count": 64,
     "metadata": {},
     "output_type": "execute_result"
    }
   ],
   "source": [
    "#randn(d0, d1, ..., dn): Samples from the standard normal distribution.\n",
    "np.random.randn(5,3)"
   ]
  },
  {
   "cell_type": "code",
   "execution_count": 65,
   "id": "8af8b22e-73a1-44b8-a671-32be7a5f09dd",
   "metadata": {},
   "outputs": [
    {
     "data": {
      "text/plain": [
       "array([3, 8, 5, 2])"
      ]
     },
     "execution_count": 65,
     "metadata": {},
     "output_type": "execute_result"
    }
   ],
   "source": [
    "# randint(low, high, size): Random integers from low (inclusive) to high (exclusive).\n",
    "np.random.randint(2,9,4)"
   ]
  },
  {
   "cell_type": "code",
   "execution_count": 66,
   "id": "68a96383-988f-4375-a007-3a4208f440ab",
   "metadata": {},
   "outputs": [
    {
     "data": {
      "text/plain": [
       "array([[ 3,  4,  5,  6],\n",
       "       [ 7,  8,  9, 10],\n",
       "       [11, 12, 13, 14]])"
      ]
     },
     "execution_count": 66,
     "metadata": {},
     "output_type": "execute_result"
    }
   ],
   "source": [
    "r"
   ]
  },
  {
   "cell_type": "code",
   "execution_count": 67,
   "id": "bef4cd26-5f72-42c8-98c6-524ce79a9473",
   "metadata": {},
   "outputs": [
    {
     "data": {
      "text/plain": [
       "(array([0, 0, 0, 0, 1, 1, 1, 1, 2, 2, 2, 2], dtype=int64),\n",
       " array([0, 1, 2, 3, 0, 1, 2, 3, 0, 1, 2, 3], dtype=int64))"
      ]
     },
     "execution_count": 67,
     "metadata": {},
     "output_type": "execute_result"
    }
   ],
   "source": [
    "# nonzero(a): Returns the indices of non-zero elements.\n",
    "np.nonzero(r)"
   ]
  },
  {
   "cell_type": "code",
   "execution_count": 68,
   "id": "6b85fa08-17a3-467c-a23d-5bdeddbd5b94",
   "metadata": {},
   "outputs": [
    {
     "data": {
      "text/plain": [
       "array([[False, False, False, False],\n",
       "       [False, False, False, False],\n",
       "       [False, False, False, False]])"
      ]
     },
     "execution_count": 68,
     "metadata": {},
     "output_type": "execute_result"
    }
   ],
   "source": [
    "# isnan(x): Tests element-wise for NaN and returns result as a boolean array.\n",
    "np.isnan(r)"
   ]
  },
  {
   "cell_type": "code",
   "execution_count": 69,
   "id": "41293fc7-7133-48fd-a72b-43801fa2f4b8",
   "metadata": {},
   "outputs": [
    {
     "data": {
      "text/plain": [
       "array([[ True,  True,  True,  True],\n",
       "       [ True,  True,  True,  True],\n",
       "       [ True,  True,  True,  True]])"
      ]
     },
     "execution_count": 69,
     "metadata": {},
     "output_type": "execute_result"
    }
   ],
   "source": [
    "# logical_and(x1, x2): Computes the truth value of x1 AND x2 element-wise.\n",
    "np.logical_and(r,r1)"
   ]
  },
  {
   "cell_type": "code",
   "execution_count": 70,
   "id": "411aa203-8801-464c-9c40-1375f2cabe07",
   "metadata": {},
   "outputs": [
    {
     "data": {
      "text/plain": [
       "array([[ True,  True,  True,  True],\n",
       "       [ True,  True,  True,  True],\n",
       "       [ True,  True,  True,  True]])"
      ]
     },
     "execution_count": 70,
     "metadata": {},
     "output_type": "execute_result"
    }
   ],
   "source": [
    "# logical_or(x1, x2): Computes the truth value of x1 OR x2 element-wise.\n",
    "np.logical_or(r,r1)"
   ]
  },
  {
   "cell_type": "code",
   "execution_count": 71,
   "id": "f1d458f9-2f07-4524-b3c0-834c1aa48cb8",
   "metadata": {},
   "outputs": [
    {
     "data": {
      "text/plain": [
       "array([[False, False, False, False],\n",
       "       [False, False, False, False],\n",
       "       [False, False, False, False]])"
      ]
     },
     "execution_count": 71,
     "metadata": {},
     "output_type": "execute_result"
    }
   ],
   "source": [
    "# logical_not(x): Computes the truth value of NOT x element-wise.\n",
    "np.logical_not(r)"
   ]
  },
  {
   "cell_type": "code",
   "execution_count": 72,
   "id": "ae365417-eab9-42f6-bd3f-3f1501d3785c",
   "metadata": {},
   "outputs": [
    {
     "data": {
      "text/plain": [
       "array([[False, False, False, False],\n",
       "       [False, False, False, False],\n",
       "       [False, False, False, False]])"
      ]
     },
     "execution_count": 72,
     "metadata": {},
     "output_type": "execute_result"
    }
   ],
   "source": [
    "# logical_xor(x1, x2): Computes the truth value of x1 XOR x2 element-wise.\n",
    "np.logical_xor(r,r1)"
   ]
  },
  {
   "cell_type": "code",
   "execution_count": 73,
   "id": "413e791f-ae85-4c9b-922f-3cdbab2b8a92",
   "metadata": {},
   "outputs": [
    {
     "data": {
      "text/plain": [
       "array([[3.11, 3.22, 3.33, 3.44],\n",
       "       [3.55, 3.66, 3.77, 3.88],\n",
       "       [3.99, 4.1 , 4.21, 4.32]])"
      ]
     },
     "execution_count": 73,
     "metadata": {},
     "output_type": "execute_result"
    }
   ],
   "source": [
    "r3"
   ]
  },
  {
   "cell_type": "code",
   "execution_count": 74,
   "id": "b8592b66-b633-4626-ad80-45772ba261e9",
   "metadata": {},
   "outputs": [
    {
     "data": {
      "text/plain": [
       "array([[3., 3., 3., 3.],\n",
       "       [3., 3., 3., 3.],\n",
       "       [3., 4., 4., 4.]])"
      ]
     },
     "execution_count": 74,
     "metadata": {},
     "output_type": "execute_result"
    }
   ],
   "source": [
    "np.floor(r3)"
   ]
  },
  {
   "cell_type": "code",
   "execution_count": 75,
   "id": "8705fe55-86f2-45be-b788-7b8ad450ade8",
   "metadata": {},
   "outputs": [
    {
     "data": {
      "text/plain": [
       "array([[4., 4., 4., 4.],\n",
       "       [4., 4., 4., 4.],\n",
       "       [4., 5., 5., 5.]])"
      ]
     },
     "execution_count": 75,
     "metadata": {},
     "output_type": "execute_result"
    }
   ],
   "source": [
    "np.ceil(r3)"
   ]
  },
  {
   "cell_type": "code",
   "execution_count": 76,
   "id": "2b7be893-4b9b-4951-b877-729e4271bacb",
   "metadata": {},
   "outputs": [
    {
     "data": {
      "text/plain": [
       "array([[3., 3., 3., 3.],\n",
       "       [4., 4., 4., 4.],\n",
       "       [4., 4., 4., 4.]])"
      ]
     },
     "execution_count": 76,
     "metadata": {},
     "output_type": "execute_result"
    }
   ],
   "source": [
    "np.round(r3)"
   ]
  },
  {
   "cell_type": "code",
   "execution_count": 77,
   "id": "8306ef30-9b54-4f61-b37e-5229a92efe07",
   "metadata": {},
   "outputs": [
    {
     "data": {
      "text/plain": [
       "array([[3., 3., 3., 3.],\n",
       "       [3., 3., 3., 3.],\n",
       "       [3., 4., 4., 4.]])"
      ]
     },
     "execution_count": 77,
     "metadata": {},
     "output_type": "execute_result"
    }
   ],
   "source": [
    "# he truncated values of the input array — that is, it removes the decimal part and keeps \n",
    "# only the integer portion, toward zero.\n",
    "np.trunc(r3)"
   ]
  },
  {
   "cell_type": "code",
   "execution_count": null,
   "id": "58642b24-4864-494e-b3d0-3820c1e11ee7",
   "metadata": {},
   "outputs": [],
   "source": []
  }
 ],
 "metadata": {
  "kernelspec": {
   "display_name": "Python 3 (ipykernel)",
   "language": "python",
   "name": "python3"
  },
  "language_info": {
   "codemirror_mode": {
    "name": "ipython",
    "version": 3
   },
   "file_extension": ".py",
   "mimetype": "text/x-python",
   "name": "python",
   "nbconvert_exporter": "python",
   "pygments_lexer": "ipython3",
   "version": "3.12.4"
  }
 },
 "nbformat": 4,
 "nbformat_minor": 5
}
